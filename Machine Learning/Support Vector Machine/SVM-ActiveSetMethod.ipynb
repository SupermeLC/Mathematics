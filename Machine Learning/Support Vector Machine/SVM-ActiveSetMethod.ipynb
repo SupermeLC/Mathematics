{
 "cells": [
  {
   "cell_type": "code",
   "execution_count": 1,
   "metadata": {},
   "outputs": [],
   "source": [
    "from matplotlib import pyplot as plt\n",
    "import numpy as np\n",
    "import math\n",
    "import numpy as np\n",
    "from sklearn import datasets\n",
    "import copy"
   ]
  },
  {
   "cell_type": "code",
   "execution_count": 2,
   "metadata": {},
   "outputs": [],
   "source": [
    "# Support Vector Machine\n",
    "def SVM(X,Y,C):\n",
    "    #step 1: 构造SVM的凸二次规划问题\n",
    "    data_num = X.shape[0]\n",
    "    kernel_data = np.zeros([data_num, data_num])\n",
    "\n",
    "    hessian = np.zeros([data_num, data_num]) # 二次项矩阵\n",
    "    r = np.ones((data_num, 1)) * -1  # 一次项矩阵\n",
    "    G = np.diag(np.ones(data_num) * -1)  # 等式约束项系数\n",
    "    h = np.zeros((data_num, 1))  # 等式约束项常数\n",
    "    A = np.zeros([1, data_num])\n",
    "    b = np.zeros((1, 1))\n",
    "\n",
    "    #核函数映射\n",
    "    for i in range(data_num):\n",
    "        A[0][i] = Y[i]\n",
    "        for j in range(data_num):\n",
    "            # 核函数的选取\n",
    "            kernel_data[i][j] = kernel_function(X[i], X[j],type = KERNEL)\n",
    "            # kerMat[i][j] = np.dot(X[i], X[j])\n",
    "            hessian[i][j] = kernel_data[i][j] * Y[i] * Y[j]\n",
    "    # print(kernel_data.shape)\n",
    "    # print(hessian.shape)\n",
    "    # print(hessian)\n",
    "\n",
    "    # step 2: 使用ActiveSet求解\n",
    "    count = 0\n",
    "    for i in range(data_num):\n",
    "        if (Y[i] == 1):\n",
    "            count += 1\n",
    "    # ActiveSet初始参数x0\n",
    "    x0 = np.ones((data_num, 1))\n",
    "    for i in range(data_num):\n",
    "        if Y[i] == 1:\n",
    "            x0[i][0] = data_num - count\n",
    "        else:\n",
    "            x0[i][0] = count\n",
    "    solution, lamb = ASM(x0, hessian, r, G, h, A, b)\n",
    "\n",
    "    # step 3: 选取0<alpha<C, support_vector\n",
    "    a = np.ravel(solution)\n",
    "    # find  ECQP multipliers larger than zero,  Support vectors have non zero lagrange multipliers\n",
    "    sv = a > 1e-5\n",
    "    for i in range(X.shape[0]):\n",
    "        if a[i] > C:\n",
    "            sv[i] = False\n",
    "    ind = np.arange(len(a))[sv]\n",
    "    alpha = a[sv]\n",
    "    supportData = X[sv]\n",
    "    supportLabel = Y[sv]\n",
    "    intercept = 0\n",
    "    for i in range(len(alpha)):\n",
    "        intercept += supportLabel[i]\n",
    "        intercept -= np.sum(alpha * supportLabel * kernel_data[ind[i], sv])\n",
    "    intercept /= len(alpha)\n",
    "    return alpha, supportData, supportLabel, intercept\n",
    "\n",
    "# Active Set Method\n",
    "def ASM(x0, hessian, r, G, h, A, b):\n",
    "    # Step 1: 构建有效集zeroIdx\n",
    "    zeroIdx = []\n",
    "    if A.shape[0] == len(x0):\n",
    "        rowA, colA = A.shape\n",
    "    else:\n",
    "        rowA = 0\n",
    "    rowG, colG = G.shape\n",
    "\n",
    "    sum = np.dot(G, x0)\n",
    "    tmp = sum - h\n",
    "    for i in range(rowG):\n",
    "        if abs(tmp[i])<1e-5:\n",
    "            zeroIdx.append(i)\n",
    "    step = 0\n",
    "\n",
    "    x = x0\n",
    "    while step < 100:\n",
    "        # Step 2 构造子命题，通过\n",
    "        r_new = hessian.dot(x) + r\n",
    "        A_new = np.zeros((rowA + len(zeroIdx), colG))\n",
    "        b_new = np.zeros((rowA + len(zeroIdx), 1))\n",
    "        for i in range(rowA):\n",
    "            for j in range(colG):\n",
    "                A_new[i][j] = A[i][j]\n",
    "        count = 0\n",
    "        for i in zeroIdx:\n",
    "            for j in range(colG):\n",
    "                A_new[rowA + count][j] = G[i][j]\n",
    "            count += 1\n",
    "        # 二次规划，求移动的方向d\n",
    "        d, lamb = QP(hessian, r_new, A_new, b_new)\n",
    "\n",
    "        # Step 3 如果d=0，d为最优解；\n",
    "        is_zero_vector = True\n",
    "        if np.linalg.norm(d) > 1e-5:\n",
    "            is_zero_vector = False\n",
    "        if is_zero_vector:\n",
    "            isOpt = True\n",
    "            idxMin = np.argmin(lamb)\n",
    "            lambMin = lamb[idxMin]\n",
    "            #对应于有效约束的乘子lamb>0,则为最优点；否则从有效集中去除\n",
    "            if lambMin < 0:\n",
    "                isOpt = False\n",
    "\n",
    "            if isOpt:\n",
    "                output = np.zeros((rowG, 1))\n",
    "                shift = 0\n",
    "                for i in zeroIdx:\n",
    "                    output[i][0] = lamb[shift]\n",
    "                    shift += 1\n",
    "                return x, output\n",
    "                break\n",
    "            else:\n",
    "                zeroIdx.remove(idxMin)\n",
    "            step += 1\n",
    "        else:\n",
    "            # Step 4 如果d!=0，确定步长alpha，更新迭代点\n",
    "            alpha = 1.\n",
    "            idxMin = -1\n",
    "            for i in range(rowG):\n",
    "                if zeroIdx.count(i) == 0:\n",
    "                    k = (h[i][0] - G[i].T.dot(x)) / (G[i].T.dot(d))\n",
    "                    if k <= alpha and G[i].dot(d) > 0:\n",
    "                        idxMin = i\n",
    "                        alpha = k\n",
    "            x = x + alpha * d\n",
    "            if idxMin != -1:\n",
    "                zeroIdx.append(idxMin)\n",
    "            step += 1\n",
    "    return x, lamb\n",
    "\n",
    "def IsZeroVec(Vec):\n",
    "    for i in range(len(Vec)):\n",
    "        if not(IsZero(Vec[i])):\n",
    "            return False\n",
    "    return True\n",
    "\n",
    "def QP(G, h, A, b):\n",
    "    rowA, colA = A.shape\n",
    "    left = np.vstack((G, A))\n",
    "    right = np.vstack((A.T, np.zeros((rowA, rowA))))\n",
    "    x = np.linalg.solve(np.hstack((left, right)), np.vstack((-h, b)))\n",
    "    solution = x[:colA]\n",
    "    lamb = x[colA:]\n",
    "    return solution, lamb\n",
    "\n",
    "# 核函数\n",
    "def kernel_function(x,y,type):\n",
    "    if type == 0:#linear\n",
    "        kernel = x.dot(np.transpose(y))\n",
    "    if type == 1:#gaussian\n",
    "        sigma = 0.5\n",
    "        kernel = np.exp(-np.linalg.norm(x - y) / sigma)\n",
    "    return kernel\n",
    "\n",
    "\n",
    "# 模型预测\n",
    "def predict(x, alpha, suppData, suppLab, intercept):\n",
    "    return np.sign(project(x, alpha, suppData, suppLab, intercept))\n",
    "\n",
    "def project(x, alpha, suppData, suppLab, intercept):\n",
    "    y_predict = np.zeros(len(x))\n",
    "    for i in range(len(x)):\n",
    "        s = 0\n",
    "        for a, data, y in zip(alpha, suppData, suppLab):\n",
    "            s += a * y * kernel_function(x[i], data, type = KERNEL)\n",
    "        y_predict[i] = s\n",
    "    return (y_predict + intercept)\n",
    "\n",
    "\n",
    "# 结果绘制\n",
    "def plot_result(x1_train, x2_train, alpha, suppLab, suppData, grid_half_len=8):\n",
    "    plt.plot(x1_train[:, 0], x1_train[:, 1], \"r+\")\n",
    "    plt.plot(x2_train[:, 0], x2_train[:, 1], \"b.\")\n",
    "    x1, x2 = np.meshgrid(np.linspace(-grid_half_len, grid_half_len, 100),\n",
    "                         np.linspace(-grid_half_len, grid_half_len, 100))\n",
    "    x = np.array([[x1, x2] for x1, x2 in zip(np.ravel(x1), np.ravel(x2))])\n",
    "    Z = project(x, alpha, suppData, suppLab, intercept).reshape(x1.shape)\n",
    "    plt.contour(x1, x2, Z, [0.0], colors='k', linewidths=1)\n",
    "    plt.show()"
   ]
  },
  {
   "cell_type": "code",
   "execution_count": 4,
   "metadata": {},
   "outputs": [
    {
     "data": {
      "image/png": "[encoded data removed]",
      "text/plain": [
       "<Figure size 432x288 with 1 Axes>"
      ]
     },
     "metadata": {
      "needs_background": "light"
     },
     "output_type": "display_data"
    }
   ],
   "source": [
    "#制作线性分类器无法分开的数据集\n",
    "X, y = datasets.make_moons(n_samples=100, noise=0.2)\n",
    "y[y==0]=-1\n",
    "\n",
    "plt.plot(X[y == 1][:, 0], X[y == 1][:, 1], \"r+\")\n",
    "plt.plot(X[y == -1][:, 0], X[y == -1][:, 1], \"b.\")\n",
    "plt.show()"
   ]
  },
  {
   "cell_type": "code",
   "execution_count": 12,
   "metadata": {},
   "outputs": [
    {
     "name": "stdout",
     "output_type": "stream",
     "text": [
      "SVM Precision:0.82\n"
     ]
    },
    {
     "data": {
      "image/png": "[encoded data removed]",
      "text/plain": [
       "<Figure size 432x288 with 1 Axes>"
      ]
     },
     "metadata": {
      "needs_background": "light"
     },
     "output_type": "display_data"
    }
   ],
   "source": [
    "#选取线性核函数，0-线性核，1-高斯核\n",
    "KERNEL = 0\n",
    "C = 10\n",
    "\n",
    "#SVM主函数\n",
    "alpha, suppData, suppLab, intercept = SVM(X,y,C)\n",
    "\n",
    "#分类决策函数\n",
    "Y_predict = predict(X, alpha, suppData, suppLab, intercept)\n",
    "precision = np.sum(Y_predict == y) / len(y)\n",
    "print(\"SVM Precision:\" + str(precision))\n",
    "\n",
    "plot_result(X[y == 1], X[y == -1], alpha, suppLab, suppData, 3)"
   ]
  },
  {
   "cell_type": "code",
   "execution_count": 13,
   "metadata": {},
   "outputs": [
    {
     "name": "stdout",
     "output_type": "stream",
     "text": [
      "SVM Precision:1.0\n"
     ]
    },
    {
     "data": {
      "image/png": "[encoded data removed]",
      "text/plain": [
       "<Figure size 432x288 with 1 Axes>"
      ]
     },
     "metadata": {
      "needs_background": "light"
     },
     "output_type": "display_data"
    }
   ],
   "source": [
    "#选取高斯核函数，0-线性核，1-高斯核\n",
    "KERNEL = 1\n",
    "C = 10\n",
    "\n",
    "#SVM主函数\n",
    "alpha, suppData, suppLab, intercept = SVM(X,y,C)\n",
    "\n",
    "#分类决策函数\n",
    "Y_predict = predict(X, alpha, suppData, suppLab, intercept)\n",
    "precision = np.sum(Y_predict == y) / len(y)\n",
    "print(\"SVM Precision:\" + str(precision))\n",
    "\n",
    "plot_result(X[y == 1], X[y == -1], alpha, suppLab, suppData, 3)"
   ]
  },
  {
   "cell_type": "code",
   "execution_count": null,
   "metadata": {},
   "outputs": [],
   "source": []
  }
 ],
 "metadata": {
  "kernelspec": {
   "display_name": "Python 3",
   "language": "python",
   "name": "python3"
  },
  "language_info": {
   "codemirror_mode": {
    "name": "ipython",
    "version": 3
   },
   "file_extension": ".py",
   "mimetype": "text/x-python",
   "name": "python",
   "nbconvert_exporter": "python",
   "pygments_lexer": "ipython3",
   "version": "3.7.3"
  }
 },
 "nbformat": 4,
 "nbformat_minor": 2
}
